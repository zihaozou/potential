{
 "cells": [
  {
   "cell_type": "code",
   "execution_count": 1,
   "metadata": {},
   "outputs": [],
   "source": [
    "import torch\n",
    "from torchvision.transforms.functional import to_tensor,center_crop\n",
    "from PIL.Image import open as imopen\n",
    "from skimage.metrics import peak_signal_noise_ratio as psnr\n",
    "from os.path import join\n",
    "from os import listdir\n",
    "from models.dpirUnet import DPIRNNclass,PotentialNNclass,REDPotentialNNclass,GSPNPNNclass\n",
    "import numpy as np"
   ]
  },
  {
   "cell_type": "code",
   "execution_count": 2,
   "metadata": {},
   "outputs": [],
   "source": [
    "testTensor=torch.stack([center_crop(to_tensor(imopen(join('miscs','CBSD10',n)).convert('RGB')),(256,256)) for n in listdir(join('miscs','CBSD10'))],dim=0)"
   ]
  },
  {
   "cell_type": "code",
   "execution_count": 3,
   "metadata": {},
   "outputs": [],
   "source": [
    "gspnp=GSPNPNNclass(numInChan=3,numOutChan=3,network='unet',train_network=False)"
   ]
  },
  {
   "cell_type": "code",
   "execution_count": 4,
   "metadata": {},
   "outputs": [
    {
     "data": {
      "text/plain": [
       "<All keys matched successfully>"
      ]
     },
     "execution_count": 4,
     "metadata": {},
     "output_type": "execute_result"
    }
   ],
   "source": [
    "gspnp.network.load_state_dict(torch.load('miscs/unet.pt'))"
   ]
  },
  {
   "cell_type": "code",
   "execution_count": 5,
   "metadata": {},
   "outputs": [],
   "source": [
    "red=REDPotentialNNclass(numInChan=3,numOutChan=3,network='unet',train_network=False)"
   ]
  },
  {
   "cell_type": "code",
   "execution_count": 6,
   "metadata": {},
   "outputs": [
    {
     "data": {
      "text/plain": [
       "<All keys matched successfully>"
      ]
     },
     "execution_count": 6,
     "metadata": {},
     "output_type": "execute_result"
    }
   ],
   "source": [
    "red.network.load_state_dict(torch.load('../potential_exp/red/denoiser/epoch_749.pt',map_location='cpu'))"
   ]
  },
  {
   "cell_type": "code",
   "execution_count": 7,
   "metadata": {},
   "outputs": [],
   "source": [
    "sigmaLst=[2.55,7.65,12.75]"
   ]
  },
  {
   "cell_type": "code",
   "execution_count": 8,
   "metadata": {},
   "outputs": [
    {
     "name": "stdout",
     "output_type": "stream",
     "text": [
      "gspnp and red comparison on CBSD10\n",
      "sigma: 2.55 gspnp: 44.567157659845186 red: 43.80000518492583\n",
      "sigma: 7.65 gspnp: 37.90528089301971 red: 37.63699155720627\n",
      "sigma: 12.75 gspnp: 35.04465616790055 red: 34.81687193919423\n"
     ]
    }
   ],
   "source": [
    "print('gspnp and red comparison on CBSD10')\n",
    "gspnp.network.eval()\n",
    "red.network.eval()\n",
    "for sigma in sigmaLst:\n",
    "    noise=torch.randn_like(testTensor)*sigma/255.\n",
    "    sigmaTensor=torch.tensor(sigma,dtype=testTensor.dtype,device=testTensor.device)/255.\n",
    "    NoisytestTensor=testTensor+noise\n",
    "    gspnpRecon=gspnp(NoisytestTensor,sigmaTensor,create_graph=False,strict=False)\n",
    "    redRecon=red(NoisytestTensor,sigmaTensor,create_graph=False,strict=False)\n",
    "    gspnpPSNR=np.stack([psnr(gspnpRecon[i].detach().numpy().transpose(1,2,0),testTensor[i].detach().numpy().transpose(1,2,0),data_range=1.0) for i in range(testTensor.shape[0])],axis=0).mean()\n",
    "    redPSNR=np.stack([psnr(redRecon[i].detach().numpy().transpose(1,2,0),testTensor[i].detach().numpy().transpose(1,2,0),data_range=1.0) for i in range(testTensor.shape[0])],axis=0).mean()\n",
    "    print('sigma:',sigma,'gspnp:',gspnpPSNR,'red:',redPSNR)"
   ]
  },
  {
   "cell_type": "code",
   "execution_count": null,
   "metadata": {},
   "outputs": [],
   "source": []
  }
 ],
 "metadata": {
  "kernelspec": {
   "display_name": "Python 3.8.13 ('potentialdeq')",
   "language": "python",
   "name": "python3"
  },
  "language_info": {
   "codemirror_mode": {
    "name": "ipython",
    "version": 3
   },
   "file_extension": ".py",
   "mimetype": "text/x-python",
   "name": "python",
   "nbconvert_exporter": "python",
   "pygments_lexer": "ipython3",
   "version": "3.8.13"
  },
  "orig_nbformat": 4,
  "vscode": {
   "interpreter": {
    "hash": "e5cf7a88a7560ed23642b72ac17c8a2112e3e496b93d11db9ed797d398eba484"
   }
  }
 },
 "nbformat": 4,
 "nbformat_minor": 2
}
