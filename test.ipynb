{
 "cells": [
  {
   "cell_type": "code",
   "execution_count": 14,
   "metadata": {},
   "outputs": [],
   "source": [
    "import torch\n",
    "from models.dpirUnet import NNclass2\n",
    "import math"
   ]
  },
  {
   "cell_type": "code",
   "execution_count": 15,
   "metadata": {},
   "outputs": [],
   "source": [
    "x=torch.load('/export/project/zihao/potential_exp/gspnp_joint/2.55/epoch_9.pt')"
   ]
  },
  {
   "cell_type": "code",
   "execution_count": 16,
   "metadata": {},
   "outputs": [
    {
     "data": {
      "text/plain": [
       "odict_keys(['sigmaFactor', 'f.tau', 'f.lamb', 'f.rObj.network.m_head.weight', 'f.rObj.network.m_down1.0.res.0.weight', 'f.rObj.network.m_down1.0.res.2.weight', 'f.rObj.network.m_down1.1.res.0.weight', 'f.rObj.network.m_down1.1.res.2.weight', 'f.rObj.network.m_down1.2.weight', 'f.rObj.network.m_down2.0.res.0.weight', 'f.rObj.network.m_down2.0.res.2.weight', 'f.rObj.network.m_down2.1.res.0.weight', 'f.rObj.network.m_down2.1.res.2.weight', 'f.rObj.network.m_down2.2.weight', 'f.rObj.network.m_down3.0.res.0.weight', 'f.rObj.network.m_down3.0.res.2.weight', 'f.rObj.network.m_down3.1.res.0.weight', 'f.rObj.network.m_down3.1.res.2.weight', 'f.rObj.network.m_down3.2.weight', 'f.rObj.network.m_body.0.res.0.weight', 'f.rObj.network.m_body.0.res.2.weight', 'f.rObj.network.m_body.1.res.0.weight', 'f.rObj.network.m_body.1.res.2.weight', 'f.rObj.network.m_up3.0.weight', 'f.rObj.network.m_up3.1.res.0.weight', 'f.rObj.network.m_up3.1.res.2.weight', 'f.rObj.network.m_up3.2.res.0.weight', 'f.rObj.network.m_up3.2.res.2.weight', 'f.rObj.network.m_up2.0.weight', 'f.rObj.network.m_up2.1.res.0.weight', 'f.rObj.network.m_up2.1.res.2.weight', 'f.rObj.network.m_up2.2.res.0.weight', 'f.rObj.network.m_up2.2.res.2.weight', 'f.rObj.network.m_up1.0.weight', 'f.rObj.network.m_up1.1.res.0.weight', 'f.rObj.network.m_up1.1.res.2.weight', 'f.rObj.network.m_up1.2.res.0.weight', 'f.rObj.network.m_up1.2.res.2.weight', 'f.rObj.network.m_tail.weight'])"
      ]
     },
     "execution_count": 16,
     "metadata": {},
     "output_type": "execute_result"
    }
   ],
   "source": [
    "x.keys()"
   ]
  },
  {
   "cell_type": "code",
   "execution_count": 20,
   "metadata": {},
   "outputs": [],
   "source": [
    "new_state_dict = {}\n",
    "for k, v in x.items():\n",
    "    if 'f.rObj.network.' in k:\n",
    "        name = k.replace('f.rObj.network.', '')\n",
    "        new_state_dict[name] = v"
   ]
  },
  {
   "cell_type": "code",
   "execution_count": 21,
   "metadata": {},
   "outputs": [],
   "source": [
    "torch.save(new_state_dict, 'pretrained/k-all_sigma-2.55.pt')"
   ]
  },
  {
   "cell_type": "code",
   "execution_count": 22,
   "metadata": {},
   "outputs": [
    {
     "data": {
      "text/plain": [
       "dict_keys(['m_head.weight', 'm_down1.0.res.0.weight', 'm_down1.0.res.2.weight', 'm_down1.1.res.0.weight', 'm_down1.1.res.2.weight', 'm_down1.2.weight', 'm_down2.0.res.0.weight', 'm_down2.0.res.2.weight', 'm_down2.1.res.0.weight', 'm_down2.1.res.2.weight', 'm_down2.2.weight', 'm_down3.0.res.0.weight', 'm_down3.0.res.2.weight', 'm_down3.1.res.0.weight', 'm_down3.1.res.2.weight', 'm_down3.2.weight', 'm_body.0.res.0.weight', 'm_body.0.res.2.weight', 'm_body.1.res.0.weight', 'm_body.1.res.2.weight', 'm_up3.0.weight', 'm_up3.1.res.0.weight', 'm_up3.1.res.2.weight', 'm_up3.2.res.0.weight', 'm_up3.2.res.2.weight', 'm_up2.0.weight', 'm_up2.1.res.0.weight', 'm_up2.1.res.2.weight', 'm_up2.2.res.0.weight', 'm_up2.2.res.2.weight', 'm_up1.0.weight', 'm_up1.1.res.0.weight', 'm_up1.1.res.2.weight', 'm_up1.2.res.0.weight', 'm_up1.2.res.2.weight', 'm_tail.weight'])"
      ]
     },
     "execution_count": 22,
     "metadata": {},
     "output_type": "execute_result"
    }
   ],
   "source": [
    "new_state_dict.keys()"
   ]
  },
  {
   "cell_type": "code",
   "execution_count": null,
   "metadata": {},
   "outputs": [],
   "source": []
  }
 ],
 "metadata": {
  "interpreter": {
   "hash": "e5cf7a88a7560ed23642b72ac17c8a2112e3e496b93d11db9ed797d398eba484"
  },
  "kernelspec": {
   "display_name": "Python 3.8.13 ('potentialdeq')",
   "language": "python",
   "name": "python3"
  },
  "language_info": {
   "codemirror_mode": {
    "name": "ipython",
    "version": 3
   },
   "file_extension": ".py",
   "mimetype": "text/x-python",
   "name": "python",
   "nbconvert_exporter": "python",
   "pygments_lexer": "ipython3",
   "version": "3.8.13"
  },
  "orig_nbformat": 4
 },
 "nbformat": 4,
 "nbformat_minor": 2
}
